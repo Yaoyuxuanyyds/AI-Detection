{
 "cells": [
  {
   "cell_type": "code",
   "execution_count": 4,
   "metadata": {},
   "outputs": [],
   "source": [
    "import pandas as pd\n",
    "\n",
    "def process_and_save_csv(input_file_path1, input_file_path2, output_file_path):\n",
    "    df1 = pd.read_csv(input_file_path1)\n",
    "    df2 = pd.read_csv(input_file_path2)\n",
    "    \n",
    "\n",
    "    df1_processed = df1[['text', 'generated']]\n",
    "    df2_processed = df2[['text', 'label']].rename(columns={'label': 'generated'})\n",
    "\n",
    "    combined_df = pd.concat([df1_processed, df2_processed], ignore_index=True)\n",
    "    combined_df.to_csv(output_file_path, index=False)\n",
    "\n",
    "input_file_path1 = 'data/train_essays.csv'  \n",
    "input_file_path2 = 'data/train_v2_drcat_02.csv'  \n",
    "output_file_path = 'data/train.csv'  \n",
    "\n",
    "process_and_save_csv(input_file_path1, input_file_path2, output_file_path)\n"
   ]
  }
 ],
 "metadata": {
  "kernelspec": {
   "display_name": "NLP",
   "language": "python",
   "name": "python3"
  },
  "language_info": {
   "codemirror_mode": {
    "name": "ipython",
    "version": 3
   },
   "file_extension": ".py",
   "mimetype": "text/x-python",
   "name": "python",
   "nbconvert_exporter": "python",
   "pygments_lexer": "ipython3",
   "version": "3.8.10"
  }
 },
 "nbformat": 4,
 "nbformat_minor": 2
}
